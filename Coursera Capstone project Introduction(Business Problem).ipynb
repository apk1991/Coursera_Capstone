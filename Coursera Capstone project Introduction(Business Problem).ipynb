{
 "cells": [
  {
   "cell_type": "markdown",
   "metadata": {},
   "source": [
    "# A description of the problem and a discussion of the background"
   ]
  },
  {
   "cell_type": "markdown",
   "metadata": {},
   "source": [
    "## Problem - \n",
    "\n"
   ]
  },
  {
   "cell_type": "markdown",
   "metadata": {},
   "source": [
    "### Opening of an Indian restaurant in the city of Edmonton, Alberta, Canada"
   ]
  },
  {
   "cell_type": "markdown",
   "metadata": {},
   "source": [
    "## Background -"
   ]
  },
  {
   "cell_type": "markdown",
   "metadata": {},
   "source": [
    "### Canada is a nation of newcomers.\n",
    "\n",
    "During the last 60 years, immigration has continued to flourish, with newcomers arriving from every corner of the globe. Due to this, it has also earned the distinct name, 'The Mosiac'.\n",
    "Diversity within Canada continues to evolve and become more complex and varied with each province owning particular 'flavor' of diversity.\n",
    "British Columbia is more heavily Asian, Ontario has the greatest diversity, Alberta has overtaken Quebec both in numbers and diversity, and Quebec reflects the preference for French-speaking immigrants.\n",
    "The diversity of Canada’s population is expected to increase significantly in the next two decades, especially in the large metropolitan cities.  Statistics Canada projects by 2031, between 25 to 28 percent of the population will be foreign-born and 29 to 32 percent of the population will belong to a visible minority group.  Visible minorities are expected to account for 63 percent of the population of Toronto, 59 percent of Vancouver and 31 percent of Montreal.\n",
    "\n",
    "### Idea of opening 'Indian' Restaurant-\n",
    "\n",
    "According to cicnews.com ('https://www.cicnews.com/2020/02/a-quarter-of-canadas-immigrants-arrived-from-india-in-2019-0213700.html#gs.noe0d8'), India was by far the main source country of new immigrants to Canada in 2019.\n",
    "China was the second leading source country, followed by the Philippines, Nigeria, the United States, Pakistan, Syria, Eritrea, South Korea, and Iran.\n",
    "\n",
    "Total New Immigrants in 2019\t341,180\n",
    "1. India\t85,585\n",
    "2. China\t30,260\n",
    "3. Philippines\t27,815\n",
    "4. Nigeria\t12,595\n",
    "5. United States of America\t10,800\n",
    "6. Pakistan\t10,790\n",
    "7. Syria\t10,120\n",
    "8. Eritrea\t7,025\n",
    "9. Korea, Republic of\t6,110\n",
    "10. Iran\t6,055\n",
    "India is number one\n",
    "India accounted for 25 per cent of the 341,000 immigrants welcomed by Canada. \n",
    "**_The Indian share of Canada’s newcomers has increased significantly in recent years and is expected to increase in the future too._**\n",
    "\n",
    "### Idea of opening restaurant in Edmonton, Alberta - \n",
    "According to the demographics presented in the Wikipedia page, https://en.wikipedia.org/wiki/Indo-Canadians#Population_settlement, cities like Toronto, Vancouver, Montreal, Calgary, Edmonton, Abbotsford etc have large Asian Indian population.\n",
    "\n",
    "### Data-\n",
    "\n",
    "|City\t   | Province\t      | Indian\t| Percentage|\n",
    "|----------|------------------|---------|---------|\n",
    "|Toronto\t   | Ontario\t      | 643,370\t| 10.4%|\n",
    "|Vancouver  | British Columbia |\t243,135 | 10.0%|\n",
    "|Montréal   | Quebec\t          |  48,485\t|  1.2%|\n",
    "|Calgary\t   | Alberta\t      |  90,625\t|  6.5%|\n",
    "|Edmonton   | Alberta\t      |  72,245\t|  5.5%|\n",
    "|Abbotsford | British Columbia |\t 33,340\t| 18.9%|\n",
    "|Winnipeg   | Manitoba\t      |  30,800\t|  4.0%|\n",
    "|Ottawa\t   | Ontario\t      |  28,945\t|  2.2%|\n",
    "|Hamilton   | Ontario          |\t 23,390\t|  3.1%|\n",
    "|Kitchener  | Ontario\t      |  19,295\t|  3.7%|\n",
    "\n",
    "\n",
    "\n",
    "**_So, opening an Indian Restaurant will be a profitable idea in any of these cities._**\n"
   ]
  }
 ],
 "metadata": {
  "kernelspec": {
   "display_name": "Python 3",
   "language": "python",
   "name": "python3"
  },
  "language_info": {
   "codemirror_mode": {
    "name": "ipython",
    "version": 3
   },
   "file_extension": ".py",
   "mimetype": "text/x-python",
   "name": "python",
   "nbconvert_exporter": "python",
   "pygments_lexer": "ipython3",
   "version": "3.8.5"
  }
 },
 "nbformat": 4,
 "nbformat_minor": 4
}
